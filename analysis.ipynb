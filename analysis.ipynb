{
 "cells": [
  {
   "cell_type": "code",
   "execution_count": null,
   "metadata": {
    "collapsed": true
   },
   "outputs": [],
   "source": [
    "import pandas as pd\n",
    "\n",
    "def match_probability(constraints, words):\n",
    "   num_total_words = len(words)\n",
    "   for c in constraints:\n",
    "       words = filter(c.match, words)\n",
    "   words = list(words)\n",
    "   return len(words) / num_total_words\n",
    "\n",
    "dataset = pd.read_csv('./unigram_freq_wordle.csv')"
   ]
  },
  {
   "cell_type": "code",
   "execution_count": null,
   "outputs": [],
   "source": [
    "def compute_constraints_entropy(word):\n",
    "    \"\"\"\n",
    "    Compute probability distribution of all possible constrains and then compute entropy\n",
    "    Warning: exponential complexity!! Implement with cython and test before run on all words\n",
    "    \"\"\"\n",
    "    pass\n",
    "\n",
    "dataset['entropy'] = dataset.word.apply(compute_constraints_entropy)"
   ],
   "metadata": {
    "collapsed": false,
    "pycharm": {
     "name": "#%%\n"
    }
   }
  }
 ],
 "metadata": {
  "kernelspec": {
   "display_name": "Python 3",
   "language": "python",
   "name": "python3"
  },
  "language_info": {
   "codemirror_mode": {
    "name": "ipython",
    "version": 2
   },
   "file_extension": ".py",
   "mimetype": "text/x-python",
   "name": "python",
   "nbconvert_exporter": "python",
   "pygments_lexer": "ipython2",
   "version": "2.7.6"
  }
 },
 "nbformat": 4,
 "nbformat_minor": 0
}